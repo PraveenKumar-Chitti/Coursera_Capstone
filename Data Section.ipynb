{
 "cells": [
  {
   "cell_type": "markdown",
   "metadata": {},
   "source": [
    "# Data"
   ]
  },
  {
   "cell_type": "markdown",
   "metadata": {},
   "source": [
    "Data collected from different entities such as wikipedia and official data websites presented by respective Countries/Cities."
   ]
  },
  {
   "cell_type": "markdown",
   "metadata": {},
   "source": [
    "#### **Sources of Data**"
   ]
  },
  {
   "cell_type": "markdown",
   "metadata": {},
   "source": [
    "Population Demographic Data for the Cities were taken from below Sources\n",
    "\n",
    "**City of Toronto:**\n",
    "\n",
    "    Population Demographics and Ethnicity data: https://en.wikipedia.org/wiki/Demographics_of_Toronto\n",
    "\n",
    "**New York City:**\n",
    "\n",
    "    Population Demographic Data : https://en.wikipedia.org/wiki/Demographics_of_New_York_City\n",
    "    Population by Gender data : https://newyork.areaconnect.com/statistics.htm\n",
    "    \n",
    "**Location Data: **\n",
    "\n",
    "    FourSquareAPI : https://api.foursquare.com/v2/venues/explore?&client_id={}&client_secret={}&v={}&ll={},{}&radius={}&limit={}'.format(\n",
    "            CLIENT_ID, \n",
    "            CLIENT_SECRET, \n",
    "            VERSION, \n",
    "            LATITUDE, \n",
    "            LONGITUDE, \n",
    "            radius, \n",
    "            LIMIT)\n"
   ]
  },
  {
   "cell_type": "markdown",
   "metadata": {},
   "source": [
    "#### **How will the data be used?**"
   ]
  },
  {
   "cell_type": "markdown",
   "metadata": {},
   "source": [
    "**Business Problem** : To compare two different cities based on location data from FourSquare API and Population Demographics gathered from various Wiki pages"
   ]
  },
  {
   "cell_type": "markdown",
   "metadata": {},
   "source": [
    "**Using extracted data from above sources**\n",
    "\n",
    "**1.** We will present the Total population data for each City(including Gender wise population    demographics)  \n",
    "\n",
    "**2.** We would present the Historical population data on how the population has trended over the years\n",
    "\n",
    "**3.** Indicate Top Ethnic Groups in each City for finding similar/dissimilar traditions\n",
    "\n",
    "**4.** Latitude & Longitude Location data extracted from FourSquareAPI and \n",
    "\n",
    "**5.** Map the venue data by clustering the neighborhoods"
   ]
  }
 ],
 "metadata": {
  "kernelspec": {
   "display_name": "Python",
   "language": "python",
   "name": "conda-env-python-py"
  },
  "language_info": {
   "codemirror_mode": {
    "name": "ipython",
    "version": 3
   },
   "file_extension": ".py",
   "mimetype": "text/x-python",
   "name": "python",
   "nbconvert_exporter": "python",
   "pygments_lexer": "ipython3",
   "version": "3.6.7"
  }
 },
 "nbformat": 4,
 "nbformat_minor": 4
}
