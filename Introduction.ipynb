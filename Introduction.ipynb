{
 "cells": [
  {
   "cell_type": "markdown",
   "metadata": {},
   "source": [
    "<h1> Coursera Capstone Project </h1>\n",
    "\n",
    "### *IBM Data Science Professional*\n",
    "by Praveen Kumar Yalamanchili"
   ]
  },
  {
   "cell_type": "markdown",
   "metadata": {},
   "source": [
    "## Introduction"
   ]
  },
  {
   "cell_type": "markdown",
   "metadata": {},
   "source": [
    "From an Ancient show that it is characterized by population density, symbolic function, and urban planning, have existed for thousands of years. In Modern day(Today) Cities generally have extensive systems for housing, transportation, sanitation, utilities, land use, and communication. Their density facilitates interaction between people, government organizations and businesses, sometimes benefiting different parties in the process.\n",
    "\n",
    "A city is distinguished from other human settlements by its relatively great size, but also by its functions and \n",
    "its special symbolic status, which may be conferred by a central authority. The term can also refer either to the \n",
    "physical streets and buildings of the city or to the collection of people who dwell there, and can be used in a \n",
    "general sense to mean urban rather than rural territory.\n",
    "\n",
    "And mostly Cities have become a main target areas for Business Employment and many other industries."
   ]
  },
  {
   "cell_type": "markdown",
   "metadata": {},
   "source": [
    "## Business Problem"
   ]
  },
  {
   "cell_type": "markdown",
   "metadata": {},
   "source": [
    "As we see many people migrate to different cities in the world for better lively hood , life, employment, entertainment etc. \n",
    "\n",
    "Our take in this project is to be able to compare two different cities based on the population , ethnicity and similarity of neighborhoods based on the Four Square Venues Data.\n",
    "\n",
    "Upon successfully analyzing the data, one should be able to see the similarity or dissimilarity between New York City and City of Toronto from the perspective of Population diversity, Ethnicity and neighborhood venue data"
   ]
  },
  {
   "cell_type": "markdown",
   "metadata": {},
   "source": [
    "*Target Audience would be any person or business who would be interested in comparing the Cities New York and Toronto based on their Population Diversity, Ethnicity and Neighborhood Data using Four Square API.*"
   ]
  }
 ],
 "metadata": {
  "kernelspec": {
   "display_name": "Python",
   "language": "python",
   "name": "conda-env-python-py"
  },
  "language_info": {
   "codemirror_mode": {
    "name": "ipython",
    "version": 3
   },
   "file_extension": ".py",
   "mimetype": "text/x-python",
   "name": "python",
   "nbconvert_exporter": "python",
   "pygments_lexer": "ipython3",
   "version": "3.6.7"
  }
 },
 "nbformat": 4,
 "nbformat_minor": 4
}
